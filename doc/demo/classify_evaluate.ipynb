{
 "cells": [
  {
   "cell_type": "code",
   "execution_count": 1,
   "metadata": {
    "collapsed": false
   },
   "outputs": [
    {
     "name": "stdout",
     "output_type": "stream",
     "text": [
      "Populating the interactive namespace from numpy and matplotlib\n"
     ]
    }
   ],
   "source": [
    "%pylab inline"
   ]
  },
  {
   "cell_type": "code",
   "execution_count": null,
   "metadata": {
    "collapsed": false
   },
   "outputs": [
    {
     "name": "stderr",
     "output_type": "stream",
     "text": [
      "Using Theano backend.\n",
      "Using gpu device 0: Tesla M2050 (CNMeM is disabled, cuDNN not available)\n"
     ]
    }
   ],
   "source": [
    "import dxchange\n",
    "import numpy as np\n",
    "from convnet.utils import nor_data\n",
    "from convnet.utils import extract_3d\n",
    "from convnet.utils import img_window\n",
    "from convnet.classify import model\n",
    "import matplotlib.pyplot as plt\n",
    "import time\n",
    "import glob"
   ]
  },
  {
   "cell_type": "code",
   "execution_count": 3,
   "metadata": {
    "collapsed": true
   },
   "outputs": [],
   "source": [
    "np.random.seed(1337)\n",
    "\n",
    "dim_img = 128\n",
    "patch_size = (dim_img, dim_img)\n",
    "batch_size = 50\n",
    "nb_classes = 2\n",
    "nb_epoch = 12"
   ]
  },
  {
   "cell_type": "markdown",
   "metadata": {},
   "source": [
    "number of convolutional filters to use"
   ]
  },
  {
   "cell_type": "code",
   "execution_count": 4,
   "metadata": {
    "collapsed": false
   },
   "outputs": [],
   "source": [
    "nb_filters = 32"
   ]
  },
  {
   "cell_type": "markdown",
   "metadata": {},
   "source": [
    "size of pooling area for max pooling"
   ]
  },
  {
   "cell_type": "code",
   "execution_count": 5,
   "metadata": {
    "collapsed": true
   },
   "outputs": [],
   "source": [
    "nb_pool = 2"
   ]
  },
  {
   "cell_type": "markdown",
   "metadata": {},
   "source": [
    "convolution kernel size"
   ]
  },
  {
   "cell_type": "code",
   "execution_count": 6,
   "metadata": {
    "collapsed": true
   },
   "outputs": [],
   "source": [
    "nb_conv = 3"
   ]
  },
  {
   "cell_type": "markdown",
   "metadata": {},
   "source": [
    "Please download the test data from the classify_evaluate folder at\n",
    "\n",
    "http://tinyurl.com/APS-convnet\n",
    "\n",
    "and put them in the test_data folder"
   ]
  },
  {
   "cell_type": "code",
   "execution_count": 7,
   "metadata": {
    "collapsed": true
   },
   "outputs": [],
   "source": [
    "nb_evl = 100"
   ]
  },
  {
   "cell_type": "code",
   "execution_count": 8,
   "metadata": {
    "collapsed": false
   },
   "outputs": [],
   "source": [
    "fnames = glob.glob('../../test/test_data/*.tiff')\n",
    "fnames = np.sort(fnames)"
   ]
  },
  {
   "cell_type": "code",
   "execution_count": 9,
   "metadata": {
    "collapsed": false
   },
   "outputs": [],
   "source": [
    "mdl = model(dim_img, nb_filters, nb_conv, nb_classes)\n",
    "\n",
    "mdl.load_weights('classify_training_weights.h5')\n",
    "\n",
    "Y_score = np.zeros((len(fnames)))\n"
   ]
  },
  {
   "cell_type": "code",
   "execution_count": 10,
   "metadata": {
    "collapsed": true
   },
   "outputs": [],
   "source": [
    "for i in range(len(fnames)):\n",
    "    img = dxchange.read_tiff(fnames[i])\n",
    "    img = nor_data(img)\n",
    "    X_evl = np.zeros((nb_evl, dim_img, dim_img))\n",
    "\n",
    "    for j in range(nb_evl):\n",
    "        X_evl[j] = img_window(img[360:1460, 440:1440], dim_img)\n",
    "    X_evl = X_evl.reshape(X_evl.shape[0], 1, dim_img, dim_img)\n",
    "    Y_evl = mdl.predict(X_evl, batch_size=batch_size)\n",
    "    Y_score[i] = sum(np.dot(Y_evl, [0, 1]))"
   ]
  },
  {
   "cell_type": "markdown",
   "metadata": {},
   "source": []
  },
  {
   "cell_type": "code",
   "execution_count": 12,
   "metadata": {
    "collapsed": false
   },
   "outputs": [
    {
     "name": "stdout",
     "output_type": "stream",
     "text": [
      "('The well-centered reconstruction is:', '/local/decarlo/data/databank/xiaogang/center/test_05/Hornby_APS_1000_1058_1/1023.00.tiff')\n"
     ]
    },
    {
     "data": {
      "image/png": "[encoded data removed]",
      "text/plain": [
       "<matplotlib.figure.Figure at 0x7f89302d2810>"
      ]
     },
     "metadata": {},
     "output_type": "display_data"
    }
   ],
   "source": [
    "ind_max = np.argmax(Y_score)\n",
    "print('The well-centered reconstruction is:', fnames[ind_max])\n",
    "plt.plot(Y_score)\n",
    "plt.show()"
   ]
  },
  {
   "cell_type": "code",
   "execution_count": null,
   "metadata": {
    "collapsed": true
   },
   "outputs": [],
   "source": []
  }
 ],
 "metadata": {
  "kernelspec": {
   "display_name": "Python 2",
   "language": "python",
   "name": "python2"
  },
  "language_info": {
   "codemirror_mode": {
    "name": "ipython",
    "version": 2
   },
   "file_extension": ".py",
   "mimetype": "text/x-python",
   "name": "python",
   "nbconvert_exporter": "python",
   "pygments_lexer": "ipython2",
   "version": "2.7.11"
  }
 },
 "nbformat": 4,
 "nbformat_minor": 0
}
